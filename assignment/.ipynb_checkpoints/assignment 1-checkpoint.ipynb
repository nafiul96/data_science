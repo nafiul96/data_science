{
 "cells": [
  {
   "cell_type": "markdown",
   "metadata": {},
   "source": [
    "# CSE391 \n",
    "## Assignment 1\n",
    "##  Due: Oct 5th at 11.59 pm\n",
    "## Generate 5000 two-dimensional  samples from a normal distribution with  mean $x=[10,20]$ and covariance matrix \n",
    "$S=\\begin{bmatrix}\n",
    "    3& 4  \\\\\n",
    "    4& 8 \\\\\n",
    "\\end{bmatrix}$\n",
    "\n",
    "## Perform the following steps\n",
    "\n",
    "- generate the scatter plot of these two-dimensional data\n",
    "- center the data \n",
    "- generate the scatter plot of after centering the data\n",
    "- compute the sample covariance matrix and compare it with the acual covariance of the distribution\n",
    "- are these two covariance matrices identical? if not what is the best way to make them as close of as possible ?\n",
    "- compute the eigen vectors and values of the covariance matrix using np.linalg.eig; this way you decompose the covariance martix, i.e.\n",
    "$S = E DE^{-1}$ where $E$ is the eigen vector matrix and $D$ is a diagonal matrix whose elements are eigen values. If you have no knowledge of eigen vectors and values, don't worry. The main objective of the assignment is not about eigen vectors and values. We will talk about them later in the course.\n",
    "- transform the data matrix by $E^T$, i.e. , $X_t = E^T X$\n",
    "\n",
    "- generate the scatter plot of the two-dimensional data $X_t$. What change you observe in the scatter plot and what is the implication of this transformation?\n",
    "- transform the data matrix $X_t$ by $D^{-0.5}$, i.e. , $X_w = D^{-0.5} X_t$\n",
    "- generate the scatter plot of the two-dimensional data $X_w$ .What change you observe in the scatter plot and what is implication of this transformation?\n",
    "\n",
    "# provide the code, explanation, and scatter plot in an ipynb file such that we can run it on Jupyter notebook. \n"
   ]
  },
  {
   "cell_type": "code",
   "execution_count": null,
   "metadata": {
    "collapsed": true
   },
   "outputs": [],
   "source": []
  }
 ],
 "metadata": {
  "kernelspec": {
   "display_name": "Python 3",
   "language": "python",
   "name": "python3"
  },
  "language_info": {
   "codemirror_mode": {
    "name": "ipython",
    "version": 3
   },
   "file_extension": ".py",
   "mimetype": "text/x-python",
   "name": "python",
   "nbconvert_exporter": "python",
   "pygments_lexer": "ipython3",
   "version": "3.7.3"
  }
 },
 "nbformat": 4,
 "nbformat_minor": 2
}
