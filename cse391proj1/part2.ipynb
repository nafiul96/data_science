{
 "cells": [
  {
   "cell_type": "code",
   "execution_count": 62,
   "metadata": {},
   "outputs": [],
   "source": [
    "import pandas as pd\n",
    "import scipy.io as sciIO\n",
    "import scipy.cluster.vq as vq\n",
    "from sklearn.cluster import KMeans\n",
    "import numpy as np\n",
    "import re\n",
    "from sklearn import svm\n",
    "from sklearn.datasets import make_multilabel_classification\n",
    "from sklearn.multiclass import OneVsRestClassifier\n",
    "from sklearn.svm import SVC\n",
    "from sklearn.model_selection import train_test_split\n",
    "import pandas as pd\n",
    "import itertools\n",
    "import numpy as np\n",
    "import matplotlib.pyplot as plt\n",
    "from pandas_ml import ConfusionMatrix\n",
    "from sklearn import svm\n",
    "from sklearn.metrics import confusion_matrix\n",
    "from sklearn import preprocessing"
   ]
  },
  {
   "cell_type": "code",
   "execution_count": 63,
   "metadata": {
    "scrolled": true
   },
   "outputs": [
    {
     "name": "stdout",
     "output_type": "stream",
     "text": [
      "{'__header__': b'MATLAB 5.0 MAT-file, Platform: MACI64, Created on: Fri Dec  8 12:48:24 2017', '__version__': '1.0', '__globals__': [], 'X': array([[ 10.42699064,  10.84348582,  11.09219389, ...,  11.07023837,\n",
      "         11.74735081,  10.50401063],\n",
      "       [  9.8347583 ,   9.35144039,   9.41664766, ...,   9.48368883,\n",
      "          9.30421258,  10.26172144],\n",
      "       [  8.07588503,   7.14721816,   8.22062065, ...,   7.43532022,\n",
      "          8.03227775,   8.43868957],\n",
      "       ..., \n",
      "       [  5.41119572,   3.3447859 ,   3.87012795, ...,   4.04829723,\n",
      "          4.59012292,   3.37591521],\n",
      "       [  8.30711472,   9.514704  ,   9.01987062, ...,   9.60936511,\n",
      "          9.34818881,   3.1990441 ],\n",
      "       [  7.83440658,   8.08174439,   7.39368562, ...,   6.75724865,\n",
      "          7.84346509,   7.42367061]]), 'Y': array([[ 22.23870362,  24.44420728,  23.55802972, ...,  18.89239317,\n",
      "         21.24972313,  16.77980121],\n",
      "       [ 18.76071917,  22.93459431,  21.87983823, ...,  20.30949973,\n",
      "         20.4313542 ,  20.01656347],\n",
      "       [ 15.36141305,  15.92780507,  16.13747958, ...,  15.26794821,\n",
      "         15.44358468,  14.85321791],\n",
      "       ..., \n",
      "       [ 11.17456631,  18.62329949,  14.56388422, ...,   9.31736903,\n",
      "         14.87404158,  17.81747236],\n",
      "       [ 15.5601237 ,  20.83243755,  14.18532272, ...,  24.1354336 ,\n",
      "         21.02309686,  14.06337224],\n",
      "       [ 19.99682363,  14.39784469,  21.29521597, ...,  18.67744827,\n",
      "         18.40020678,  18.94083646]])}\n",
      "(200, 250)\n",
      "(200, 250)\n",
      "[109 108 112  83  94  49  80  60  52 184  79  90  66 177  19 178  16   0\n",
      " 180  96  18 117 168 128  88  31  85  34  92  13   8 141 197 116  84 156\n",
      "  59 199  43 152 134 175  46  67 120 137  63 169 198 139  27  82  55  57\n",
      "  75  26 192 100  39 121 191  89  78 166  64 179 122  35 194 187  54 129\n",
      " 124 130 160 145 146 118 157 115 189  51  48  17 147 195 140  25 107  98\n",
      "  20 127 188 154 151 170 133 176 138  71 186 106  68  69 171 131  24   9\n",
      " 161 132 164  23  32  37  70 125 111  40  58  53 181   6 172 150   5  11\n",
      " 119 174  15  91 102 162  95  33 142 158  47  65 143  76 153 159  86  21\n",
      " 165  14  12  44  61 136 149 144  41   4  10  30  77 105   1 167  97 103\n",
      " 196   2  99  29  22 113  81  42 190  28 135 110 183 101  72  62  50  74\n",
      " 173  36 123  73 155 126 182   7 163 148  87  38   3 193  45  56 185 114\n",
      " 104  93]\n"
     ]
    }
   ],
   "source": [
    "# part 2\n",
    "# The goal of this project is to classify the mRNA data pertaining two different subtypes of breast cancer. \n",
    "# We measured the expression of 200 genes across 500 patients diagnosed with subtype 1 (250 patients) and \n",
    "# subtype 2 (250 patients) breast cancer.\n",
    "data = sciIO.loadmat('CSE391_classificatin_project.mat')\n",
    "print(data)\n",
    "# first column of the file contains the gene IDs and the first row contains the patient IDs\n",
    "print(data['X'].shape) # => subtype1 breast cancer\n",
    "print(data['Y'].shape) # => subtype2 breast cancer\n",
    "\n",
    "X = data['X'] # 0\n",
    "Y = data['Y'] # 1\n",
    "\n",
    "class_names = ['0','1']\n",
    "\n",
    "X_train = X[:,:200] # 200 patients for training\n",
    "X_test = X[:,200:]  #  50 for the test \n",
    "y_train = Y[:,200] # 200 patients for training\n",
    "y_test = Y[:,200:]  # 50 for the test \n",
    "\n",
    "\n",
    "\n",
    "lab_enc = preprocessing.LabelEncoder()\n",
    "y_train = lab_enc.fit_transform(y_train)\n",
    "print(y_train)\n",
    "\n",
    "\n",
    "\n",
    "classifier = svm.SVC(kernel='linear')\n",
    "y_pred = classifier.fit(X_train, y_train).predict(X_test.T)\n",
    "# cmt_svm = ConfusionMatrix(y_test, y_pred)\n",
    "# cmt_svm"
   ]
  },
  {
   "cell_type": "code",
   "execution_count": null,
   "metadata": {
    "collapsed": true
   },
   "outputs": [],
   "source": []
  },
  {
   "cell_type": "code",
   "execution_count": null,
   "metadata": {
    "collapsed": true
   },
   "outputs": [],
   "source": []
  }
 ],
 "metadata": {
  "kernelspec": {
   "display_name": "Python 3",
   "language": "python",
   "name": "python3"
  },
  "language_info": {
   "codemirror_mode": {
    "name": "ipython",
    "version": 3
   },
   "file_extension": ".py",
   "mimetype": "text/x-python",
   "name": "python",
   "nbconvert_exporter": "python",
   "pygments_lexer": "ipython3",
   "version": "3.7.3"
  }
 },
 "nbformat": 4,
 "nbformat_minor": 2
}
