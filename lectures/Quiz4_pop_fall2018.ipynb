{
 "cells": [
  {
   "cell_type": "markdown",
   "metadata": {},
   "source": [
    "<h1><center>CSE391, Quiz 4_pop, Fall 2018 </center></h1>\n",
    "\n"
   ]
  },
  {
   "cell_type": "markdown",
   "metadata": {},
   "source": [
    "1. Read the data upload into Documents on Blackboard labeled as Quiz4Data.csv. The column 2 to 10 contain the features and column 1 contains labels.  Use SVM and Navie Bayes classifiers to classify this data and report  TPR, FDR, sensitivity?\n",
    "2. Compare the performance of these two classifiers and show them in a bar plot\n",
    "4. Set the value of C ( the regularization factor) to 0,10, 100. How the TPR chages with different vaues of C? Can you suggest a way to find the optimal C? \n",
    "\n",
    "3. What are the two features that have the most correlation?\n",
    "\n",
    "\n"
   ]
  },
  {
   "cell_type": "code",
   "execution_count": 117,
   "metadata": {},
   "outputs": [
    {
     "name": "stdout",
     "output_type": "stream",
     "text": [
      "0.0666666666667\n",
      "nan\n",
      "FDR is : 0.06222222222222222 \n",
      "\n",
      "1.0\n",
      "0.0\n",
      "TPR is : 0.9333333333333333 \n",
      "\n"
     ]
    },
    {
     "name": "stderr",
     "output_type": "stream",
     "text": [
      "C:\\Users\\nafi\\Anaconda3\\lib\\site-packages\\pandas_ml\\confusion_matrix\\bcm.py:267: RuntimeWarning: invalid value encountered in double_scalars\n",
      "  return(np.float64(self.FP) / self.PositiveTest)\n"
     ]
    }
   ],
   "source": [
    "# quiz\n",
    "import pandas as pd\n",
    "import itertools\n",
    "import numpy as np\n",
    "import matplotlib.pyplot as plt\n",
    "from pandas_ml import ConfusionMatrix\n",
    "from sklearn import svm, datasets\n",
    "from sklearn.model_selection import train_test_split\n",
    "from sklearn.metrics import confusion_matrix\n",
    "from sklearn.model_selection import cross_val_score\n",
    "\n",
    "\n",
    "## 1. reads the data\n",
    "Churn = pd.read_csv('/Users/nafi/downloads/Quiz4Data.csv')\n",
    "Churn.fillna(Churn.mean(), inplace=True)\n",
    "X = Churn.iloc[:,1:]\n",
    "y = Churn.iloc[:,0]\n",
    "class_names = [0,1]\n",
    "X_train, X_test, y_train, y_test = train_test_split(X, y, test_size=0.4, random_state=0)\n",
    "clf_svm = svm.SVC(kernel='linear', C=100)\n",
    "y_pred = clf_svm.fit(X_train, y_train).predict(X_test)\n",
    "cmt_svm = ConfusionMatrix(y_test, y_pred)\n",
    "fdr_svm = cmt.FDR\n",
    "print(\"FDR is :\" , fdr_svm, \"\\n\")\n",
    "tpr_svm  = cmt.TPR\n",
    "print(\"TPR is :\" , tpr_svm, \"\\n\")"
   ]
  },
  {
   "cell_type": "code",
   "execution_count": 114,
   "metadata": {},
   "outputs": [
    {
     "name": "stdout",
     "output_type": "stream",
     "text": [
      "TPR is  0.0 \n",
      "\n",
      "FDR is  1.0 \n",
      "\n"
     ]
    }
   ],
   "source": [
    "clf_nb = GaussianNB()\n",
    "y_pred = clf_nb.fit(X_train, y_train).predict(X_test)\n",
    "# Compute confusion matrix\n",
    "cmt_nb = ConfusionMatrix(y_test, y_pred)\n",
    "tpr_nb = cmt_nb.TPR\n",
    "print (\"TPR is \", tpr_nb, \"\\n\")\n",
    "fdr_nb = cmt_nb.FDR\n",
    "print (\"FDR is \", fdr_nb, \"\\n\")"
   ]
  },
  {
   "cell_type": "code",
   "execution_count": 101,
   "metadata": {},
   "outputs": [
    {
     "data": {
      "image/png": "[encoded data removed]",
      "text/plain": [
       "<matplotlib.figure.Figure at 0x1f1aeed84e0>"
      ]
     },
     "metadata": {},
     "output_type": "display_data"
    }
   ],
   "source": [
    "objects = ('TPR_svm', 'TPR_nb')\n",
    "y_pos = np.arange(len(objects))\n",
    "performance = [tpr_svm,tpr_nb]\n",
    " \n",
    "plt.barh(y_pos, performance, align='center', alpha=0.5)\n",
    "plt.yticks(y_pos, objects)\n",
    "plt.xlabel('TPR')\n",
    "plt.title('Classifier Performance Comparison')\n",
    " \n",
    "plt.show()"
   ]
  },
  {
   "cell_type": "code",
   "execution_count": 102,
   "metadata": {},
   "outputs": [
    {
     "data": {
      "image/png": "[encoded data removed]",
      "text/plain": [
       "<matplotlib.figure.Figure at 0x1f1af7ac630>"
      ]
     },
     "metadata": {},
     "output_type": "display_data"
    }
   ],
   "source": [
    "objects = ('FDR_svm', 'FDR_nb')\n",
    "y_pos = np.arange(len(objects))\n",
    "performance = [fdr_svm,fdr_nb]\n",
    " \n",
    "plt.barh(y_pos, performance, align='center', alpha=0.5)\n",
    "plt.yticks(y_pos, objects)\n",
    "plt.xlabel('FDR')\n",
    "plt.title('Classifier Performance Comparison')\n",
    " \n",
    "plt.show()"
   ]
  },
  {
   "cell_type": "markdown",
   "metadata": {},
   "source": [
    "Based on the TPR and FDP bar graph, The svm's true positive rate is much higher than the Naive Bayes'. However, the FDR score for naive base is about 7 times higher than FDR of svm. Due to less false classification, svm has better performance. The TPR can be fixed by fixing the C value so that there are minimum amount of data crosses the support vector line. "
   ]
  },
  {
   "cell_type": "markdown",
   "metadata": {},
   "source": [
    "Changing the C value to 0,10,100 does not affect the performance of the classifier."
   ]
  }
 ],
 "metadata": {
  "kernelspec": {
   "display_name": "Python 3",
   "language": "python",
   "name": "python3"
  },
  "language_info": {
   "codemirror_mode": {
    "name": "ipython",
    "version": 3
   },
   "file_extension": ".py",
   "mimetype": "text/x-python",
   "name": "python",
   "nbconvert_exporter": "python",
   "pygments_lexer": "ipython3",
   "version": "3.6.3"
  }
 },
 "nbformat": 4,
 "nbformat_minor": 2
}
