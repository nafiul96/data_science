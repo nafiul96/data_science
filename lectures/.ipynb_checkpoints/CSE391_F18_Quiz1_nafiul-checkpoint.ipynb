{
 "cells": [
  {
   "cell_type": "markdown",
   "metadata": {},
   "source": [
    "### CSE391 Data Science: Quiz 1 Solution\n",
    "1- Using Numpy library in Python, write a python function to slove the system of linear equations: Note you only allow to use numpy arrays and the following operations : slicing, transpose,  and inverse\n",
    "\n",
    " $\\large \\begin{cases} 3x + 5y + z = 2 \\\\ 7x – 2y + 4z= 7 \\\\ -6x + 3y + 2z =3 \\end{cases}$\n",
    " \n",
    " \n",
    " 2- Let $x_{1\\times N}= [x_1, x_2, \\ldots, x_N]$ and $y_{1\\times N} = [y_1,y_2,\\ldots,y_N]$. Using Scientific libraries in Python, write a function that computes \n",
    " \n",
    " $ \\Huge \\sum_{i=1}^{N}\\sum_{j=1}^{N} x_i y_j $\n",
    " \n",
    " Try your function with the following inputs\n",
    " $x_{1\\times 3}= [1, 2,3]$ and $y_{1\\times 3} = [4,5,6]$ and print out the output."
   ]
  },
  {
   "cell_type": "code",
   "execution_count": 4,
   "metadata": {},
   "outputs": [
    {
     "data": {
      "text/plain": [
       "array([-0.03314917,  0.34254144,  0.38674033])"
      ]
     },
     "execution_count": 4,
     "metadata": {},
     "output_type": "execute_result"
    }
   ],
   "source": [
    "import numpy as np\n",
    "\n",
    "\n",
    "def solveSystem():\n",
    "    m  = np.array([[3,5,1],[7,2,4],[-6,3,2]])\n",
    "\n",
    "    s = np.array([2,2,2])\n",
    "\n",
    "    m_x = np.array([[2,5,1],[2,2,4],[2,3,2]])\n",
    "\n",
    "    m_y = np.array([[3,2,1],[7,2,4],[-6,2,2]])\n",
    "\n",
    "    m_z = np.array([[3,5,2],[7,2,2],[-6,3,2]])\n",
    "\n",
    "    det_m = np.linalg.det(m)\n",
    "\n",
    "    det_x = np.linalg.det(m_x)\n",
    "    det_y = np.linalg.det(m_y)\n",
    "    det_z = np.linalg.det(m_z)\n",
    "\n",
    "    x = det_x/det_m\n",
    "\n",
    "    y = det_y/det_m\n",
    "\n",
    "    z = det_z/det_m\n",
    "\n",
    "    sol  = np.array([x,y,z])\n",
    "\n",
    "    return sol\n",
    "\n",
    "\n",
    "\n",
    "solveSystem()"
   ]
  },
  {
   "cell_type": "code",
   "execution_count": 5,
   "metadata": {
    "collapsed": true
   },
   "outputs": [],
   "source": [
    "def dotFunction(m,n):\n",
    "    return numpy.dot(m,n)\n",
    "    "
   ]
  },
  {
   "cell_type": "code",
   "execution_count": null,
   "metadata": {
    "collapsed": true
   },
   "outputs": [],
   "source": []
  },
  {
   "cell_type": "code",
   "execution_count": null,
   "metadata": {
    "collapsed": true
   },
   "outputs": [],
   "source": []
  },
  {
   "cell_type": "code",
   "execution_count": null,
   "metadata": {
    "collapsed": true
   },
   "outputs": [],
   "source": []
  }
 ],
 "metadata": {
  "kernelspec": {
   "display_name": "Python 3",
   "language": "python",
   "name": "python3"
  },
  "language_info": {
   "codemirror_mode": {
    "name": "ipython",
    "version": 3
   },
   "file_extension": ".py",
   "mimetype": "text/x-python",
   "name": "python",
   "nbconvert_exporter": "python",
   "pygments_lexer": "ipython3",
   "version": "3.8.3"
  }
 },
 "nbformat": 4,
 "nbformat_minor": 2
}
