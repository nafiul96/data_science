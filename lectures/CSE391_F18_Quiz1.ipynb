{
 "cells": [
  {
   "cell_type": "markdown",
   "metadata": {},
   "source": [
    "### CSE391 Data Science: Quiz 1 Solution\n",
    "1- Using Numpy library in Python, write a python function to slove the system of linear equations: Note you only allow to use numpy arrays and the following operations : slicing, transpose,  and inverse\n",
    "\n",
    " $\\large \\begin{cases} 3x + 5y + z = 2 \\\\ 7x – 2y + 4z= 7 \\\\ -6x + 3y + 2z =3 \\end{cases}$\n",
    " \n",
    " \n",
    " 2- Let $x_{1\\times N}= [x_1, x_2, \\ldots, x_N]$ and $y_{1\\times N} = [y_1,y_2,\\ldots,y_N]$. Using Scientific libraries in Python, write a function that computes \n",
    " \n",
    " $ \\Huge \\sum_{i=1}^{N}\\sum_{j=1}^{N} x_i y_j $\n",
    " \n",
    " Try your function with the following inputs\n",
    " $x_{1\\times 3}= [1, 2,3]$ and $y_{1\\times 3} = [4,5,6]$ and print out the output."
   ]
  },
  {
   "cell_type": "code",
   "execution_count": null,
   "metadata": {
    "collapsed": true
   },
   "outputs": [],
   "source": [
    "# part I\n",
    "A = np.matrix([[3,5,1],[7,-2, 4],[-6,3,2]])\n",
    "y = np.matrix([2,7,3])\n",
    "\n",
    "x = np.linalg.inv(A).dot(y.T)\n",
    "x\n",
    "\n",
    "\n",
    "# part II\n",
    "x = np.matrix([1,2,3])\n",
    "y = np.matrix([4,5,6])\n",
    "# method 1\n",
    "z = x.dot(np.ones([3,3])).dot(y.T)\n",
    "print(z)\n",
    "# method 2\n",
    "z = np.sum(np.outer(x,y))\n",
    "print(z)\n",
    "# method 3\n",
    "z = np.sum(x)*np.sum(y)\n",
    "print(z)\n"
   ]
  }
 ],
 "metadata": {
  "kernelspec": {
   "display_name": "Python 3",
   "language": "python",
   "name": "python3"
  },
  "language_info": {
   "codemirror_mode": {
    "name": "ipython",
    "version": 3
   },
   "file_extension": ".py",
   "mimetype": "text/x-python",
   "name": "python",
   "nbconvert_exporter": "python",
   "pygments_lexer": "ipython3",
   "version": "3.6.3"
  }
 },
 "nbformat": 4,
 "nbformat_minor": 2
}
